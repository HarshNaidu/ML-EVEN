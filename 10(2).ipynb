{
  "nbformat": 4,
  "nbformat_minor": 0,
  "metadata": {
    "colab": {
      "provenance": []
    },
    "kernelspec": {
      "name": "python3",
      "display_name": "Python 3"
    },
    "language_info": {
      "name": "python"
    }
  },
  "cells": [
    {
      "cell_type": "code",
      "execution_count": 1,
      "metadata": {
        "colab": {
          "base_uri": "https://localhost:8080/"
        },
        "id": "I1zfV1CTx7-y",
        "outputId": "683f4d41-0d48-4f17-bafa-f6863cf6be40"
      },
      "outputs": [
        {
          "output_type": "stream",
          "name": "stdout",
          "text": [
            "Libraries imported successfully!\n"
          ]
        }
      ],
      "source": [
        "# Import required libraries\n",
        "import numpy as np\n",
        "import pandas as pd\n",
        "from sklearn.datasets import load_breast_cancer\n",
        "from sklearn.ensemble import RandomForestClassifier, GradientBoostingClassifier\n",
        "from sklearn.model_selection import train_test_split\n",
        "from sklearn.metrics import accuracy_score, classification_report, confusion_matrix\n",
        "\n",
        "print(\"Libraries imported successfully!\")"
      ]
    },
    {
      "cell_type": "code",
      "source": [
        "# Load Breast Cancer dataset\n",
        "data = load_breast_cancer()\n",
        "X = data.data\n",
        "y = data.target\n",
        "feature_names = data.feature_names\n",
        "target_names = data.target_names\n",
        "\n",
        "# Display dataset information\n",
        "print(\"Number of features:\", len(feature_names))\n",
        "print(\"Target names:\", target_names)\n",
        "print(\"\\nShape of data:\", X.shape)\n",
        "print(\"Shape of target:\", y.shape)\n",
        "print(\"\\nClass distribution:\", np.bincount(y))\n",
        "print(\"\\nFirst feature names:\", feature_names[:5])"
      ],
      "metadata": {
        "colab": {
          "base_uri": "https://localhost:8080/"
        },
        "id": "qHKIq_3ayOna",
        "outputId": "49ac426a-066e-4e54-b2cf-a1f50b1c704a"
      },
      "execution_count": 2,
      "outputs": [
        {
          "output_type": "stream",
          "name": "stdout",
          "text": [
            "Number of features: 30\n",
            "Target names: ['malignant' 'benign']\n",
            "\n",
            "Shape of data: (569, 30)\n",
            "Shape of target: (569,)\n",
            "\n",
            "Class distribution: [212 357]\n",
            "\n",
            "First feature names: ['mean radius' 'mean texture' 'mean perimeter' 'mean area'\n",
            " 'mean smoothness']\n"
          ]
        }
      ]
    },
    {
      "cell_type": "code",
      "source": [
        "# Split data into train and test sets\n",
        "X_train, X_test, y_train, y_test = train_test_split(X, y, test_size=0.3, random_state=42, stratify=y)\n",
        "\n",
        "print(\"Training set size:\", X_train.shape)\n",
        "print(\"Testing set size:\", X_test.shape)\n",
        "print(\"\\nClass distribution in training set:\", np.bincount(y_train))\n",
        "print(\"Class distribution in testing set:\", np.bincount(y_test))"
      ],
      "metadata": {
        "colab": {
          "base_uri": "https://localhost:8080/"
        },
        "id": "PiVDKnrKyWzn",
        "outputId": "e89115cd-057b-495d-d7af-41f36ee67ee2"
      },
      "execution_count": 3,
      "outputs": [
        {
          "output_type": "stream",
          "name": "stdout",
          "text": [
            "Training set size: (398, 30)\n",
            "Testing set size: (171, 30)\n",
            "\n",
            "Class distribution in training set: [148 250]\n",
            "Class distribution in testing set: [ 64 107]\n"
          ]
        }
      ]
    },
    {
      "cell_type": "code",
      "source": [
        "# Initialize and train Random Forest\n",
        "rf_model = RandomForestClassifier(n_estimators=100, random_state=42)\n",
        "rf_model.fit(X_train, y_train)\n",
        "\n",
        "# Make predictions\n",
        "y_pred_rf = rf_model.predict(X_test)\n",
        "\n",
        "# Evaluate model\n",
        "accuracy_rf = accuracy_score(y_test, y_pred_rf)\n",
        "print(\"Random Forest Accuracy: {:.2f}%\".format(accuracy_rf*100))\n",
        "print(\"\\nConfusion Matrix:\\n\", confusion_matrix(y_test, y_pred_rf))\n",
        "print(\"\\nClassification Report:\\n\", classification_report(y_test, y_pred_rf, target_names=target_names))"
      ],
      "metadata": {
        "colab": {
          "base_uri": "https://localhost:8080/"
        },
        "id": "DvSKWWLUyZLl",
        "outputId": "ede85c42-56b3-4c46-8181-5148fb2f5306"
      },
      "execution_count": 4,
      "outputs": [
        {
          "output_type": "stream",
          "name": "stdout",
          "text": [
            "Random Forest Accuracy: 93.57%\n",
            "\n",
            "Confusion Matrix:\n",
            " [[ 58   6]\n",
            " [  5 102]]\n",
            "\n",
            "Classification Report:\n",
            "               precision    recall  f1-score   support\n",
            "\n",
            "   malignant       0.92      0.91      0.91        64\n",
            "      benign       0.94      0.95      0.95       107\n",
            "\n",
            "    accuracy                           0.94       171\n",
            "   macro avg       0.93      0.93      0.93       171\n",
            "weighted avg       0.94      0.94      0.94       171\n",
            "\n"
          ]
        }
      ]
    },
    {
      "cell_type": "code",
      "source": [
        "# Initialize and train Gradient Boosting\n",
        "gb_model = GradientBoostingClassifier(n_estimators=100, learning_rate=0.1, random_state=42)\n",
        "gb_model.fit(X_train, y_train)\n",
        "\n",
        "# Make predictions\n",
        "y_pred_gb = gb_model.predict(X_test)\n",
        "\n",
        "# Evaluate model\n",
        "accuracy_gb = accuracy_score(y_test, y_pred_gb)\n",
        "print(\"Gradient Boosting Accuracy: {:.2f}%\".format(accuracy_gb*100))\n",
        "print(\"\\nConfusion Matrix:\\n\", confusion_matrix(y_test, y_pred_gb))\n",
        "print(\"\\nClassification Report:\\n\", classification_report(y_test, y_pred_gb, target_names=target_names))"
      ],
      "metadata": {
        "colab": {
          "base_uri": "https://localhost:8080/"
        },
        "id": "5gQAEVi5yb8E",
        "outputId": "3e907427-6d0f-4ee8-8374-1155b1eff208"
      },
      "execution_count": 5,
      "outputs": [
        {
          "output_type": "stream",
          "name": "stdout",
          "text": [
            "Gradient Boosting Accuracy: 94.74%\n",
            "\n",
            "Confusion Matrix:\n",
            " [[ 58   6]\n",
            " [  3 104]]\n",
            "\n",
            "Classification Report:\n",
            "               precision    recall  f1-score   support\n",
            "\n",
            "   malignant       0.95      0.91      0.93        64\n",
            "      benign       0.95      0.97      0.96       107\n",
            "\n",
            "    accuracy                           0.95       171\n",
            "   macro avg       0.95      0.94      0.94       171\n",
            "weighted avg       0.95      0.95      0.95       171\n",
            "\n"
          ]
        }
      ]
    },
    {
      "cell_type": "code",
      "source": [
        "# Sample prediction using Random Forest\n",
        "sample_idx = 5  # You can change this index to test different samples\n",
        "sample = X_test[sample_idx].reshape(1, -1)\n",
        "true_label = target_names[y_test[sample_idx]]\n",
        "predicted_label = target_names[rf_model.predict(sample)[0]]\n",
        "\n",
        "print(\"Sample features (first 5):\", sample[0][:5])\n",
        "print(f\"True diagnosis: {true_label}\")\n",
        "print(f\"Predicted diagnosis: {predicted_label}\")\n",
        "\n",
        "# Get feature importances and pair them with feature names\n",
        "feature_importances = list(zip(feature_names, rf_model.feature_importances_))\n",
        "# Sort by importance (descending)\n",
        "feature_importances.sort(key=lambda x: x[1], reverse=True)\n",
        "\n",
        "print(\"\\nTop 5 most important features:\")\n",
        "for name, importance in feature_importances[:5]:\n",
        "    print(f\"{name}: {importance:.4f}\")"
      ],
      "metadata": {
        "colab": {
          "base_uri": "https://localhost:8080/"
        },
        "id": "YzoXyWHryeQS",
        "outputId": "f2b04377-fc2a-4c8b-9123-36d91610bac6"
      },
      "execution_count": 7,
      "outputs": [
        {
          "output_type": "stream",
          "name": "stdout",
          "text": [
            "Sample features (first 5): [1.546e+01 2.395e+01 1.038e+02 7.313e+02 1.183e-01]\n",
            "True diagnosis: malignant\n",
            "Predicted diagnosis: malignant\n",
            "\n",
            "Top 5 most important features:\n",
            "worst concave points: 0.1590\n",
            "worst area: 0.1470\n",
            "worst perimeter: 0.0858\n",
            "worst radius: 0.0790\n",
            "mean radius: 0.0777\n"
          ]
        }
      ]
    }
  ]
}