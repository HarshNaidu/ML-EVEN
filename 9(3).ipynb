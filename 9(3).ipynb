{
  "nbformat": 4,
  "nbformat_minor": 0,
  "metadata": {
    "colab": {
      "provenance": []
    },
    "kernelspec": {
      "name": "python3",
      "display_name": "Python 3"
    },
    "language_info": {
      "name": "python"
    }
  },
  "cells": [
    {
      "cell_type": "code",
      "source": [
        "# 📌 Install & Import\n",
        "!pip install -q matplotlib seaborn scikit-learn\n",
        "\n",
        "import numpy as np\n",
        "import pandas as pd\n",
        "import matplotlib.pyplot as plt\n",
        "import seaborn as sns\n",
        "\n",
        "from sklearn.datasets import load_iris\n",
        "from sklearn.preprocessing import StandardScaler\n",
        "from sklearn.decomposition import PCA\n",
        "\n",
        "# 📌 Load Iris\n",
        "iris = load_iris()\n",
        "X = iris.data\n",
        "y = iris.target\n",
        "\n",
        "print(\"Original shape:\", X.shape)\n",
        "\n",
        "# 📌 Standardize\n",
        "X_scaled = StandardScaler().fit_transform(X)\n",
        "\n",
        "# 📌 PCA: 2 Components\n",
        "pca = PCA(n_components=2)\n",
        "X_pca = pca.fit_transform(X_scaled)\n",
        "\n",
        "print(\"Explained Variance Ratio:\", pca.explained_variance_ratio_)\n",
        "\n",
        "# 📌 Visualize\n",
        "plt.figure(figsize=(8,6))\n",
        "sns.scatterplot(x=X_pca[:,0], y=X_pca[:,1], hue=y, palette='Dark2', legend='full', s=50)\n",
        "plt.title('Iris Dataset - PCA (2D)')\n",
        "plt.xlabel('Principal Component 1')\n",
        "plt.ylabel('Principal Component 2')\n",
        "plt.show()\n"
      ],
      "metadata": {
        "id": "XDCiP9WV7DT7"
      },
      "execution_count": null,
      "outputs": []
    }
  ]
}